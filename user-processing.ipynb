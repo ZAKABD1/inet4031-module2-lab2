{
 "cells": [
  {
   "cell_type": "code",
   "execution_count": 1,
   "id": "5a40acfe-6cc8-4c87-8611-f7c59e8cb60e",
   "metadata": {},
   "outputs": [
    {
     "name": "stdout",
     "output_type": "stream",
     "text": [
      "\n",
      "Could not read the file specified.\n",
      "\n"
     ]
    },
    {
     "ename": "UnboundLocalError",
     "evalue": "cannot access local variable 'userFile' where it is not associated with a value",
     "output_type": "error",
     "traceback": [
      "\u001b[0;31m---------------------------------------------------------------------------\u001b[0m",
      "\u001b[0;31mUnboundLocalError\u001b[0m                         Traceback (most recent call last)",
      "Cell \u001b[0;32mIn[1], line 38\u001b[0m\n\u001b[1;32m     34\u001b[0m         \u001b[38;5;28mprint\u001b[39m(\u001b[38;5;124m\"\u001b[39m\u001b[38;5;130;01m\\n\u001b[39;00m\u001b[38;5;124mOk not printing, ending program.\u001b[39m\u001b[38;5;124m\"\u001b[39m)\n\u001b[1;32m     36\u001b[0m     \u001b[38;5;28mprint\u001b[39m(\u001b[38;5;124m\"\u001b[39m\u001b[38;5;130;01m\\n\u001b[39;00m\u001b[38;5;124mEnd of User Processing\u001b[39m\u001b[38;5;130;01m\\n\u001b[39;00m\u001b[38;5;124m\"\u001b[39m)\n\u001b[0;32m---> 38\u001b[0m \u001b[43mmain\u001b[49m\u001b[43m(\u001b[49m\u001b[43m)\u001b[49m\n",
      "Cell \u001b[0;32mIn[1], line 21\u001b[0m, in \u001b[0;36mmain\u001b[0;34m()\u001b[0m\n\u001b[1;32m     18\u001b[0m     exit()\n\u001b[1;32m     20\u001b[0m \u001b[38;5;66;03m#load the lines of the file into a list\u001b[39;00m\n\u001b[0;32m---> 21\u001b[0m listOfUsers \u001b[38;5;241m=\u001b[39m \u001b[43muserFile\u001b[49m\u001b[38;5;241m.\u001b[39mreadlines()\n\u001b[1;32m     22\u001b[0m \u001b[38;5;28mprint\u001b[39m(\u001b[38;5;124m\"\u001b[39m\u001b[38;5;130;01m\\n\u001b[39;00m\u001b[38;5;124mlist-of-users was read.\u001b[39m\u001b[38;5;124m\"\u001b[39m)\n\u001b[1;32m     24\u001b[0m \u001b[38;5;66;03m#ask the user to proceed\u001b[39;00m\n",
      "\u001b[0;31mUnboundLocalError\u001b[0m: cannot access local variable 'userFile' where it is not associated with a value"
     ]
    }
   ],
   "source": [
    "# INET4031 Module 1\n",
    "#\n",
    "# User List Processing Program\n",
    "#\n",
    "# Created: Nov 11, 2024\n",
    "# Updated: Jan 6, 2025\n",
    "#\n",
    "\n",
    "def main():\n",
    "\n",
    "    #open the user list file\n",
    "    try:\n",
    "\n",
    "        userFile = open(\"list-of-sers.txt\", \"r\")\n",
    "\n",
    "    except:\n",
    "        print(\"\\nCould not read the file specified.\\n\")\n",
    "        exit()\n",
    "\n",
    "    #load the lines of the file into a list\n",
    "    listOfUsers = userFile.readlines()\n",
    "    print(\"\\nlist-of-users was read.\")\n",
    "\n",
    "    #ask the user to proceed\n",
    "    answer = input(\"\\nDo you want to print out the list of users? (Y or N)\")\n",
    "\n",
    "    if answer == \"Y\" or answer == \"y\":\n",
    "\n",
    "        for userline in listOfUsers:\n",
    "            print(\"\\n\", userline)\n",
    "\n",
    "    else:\n",
    "\n",
    "        print(\"\\nOk not printing, ending program.\")\n",
    "\n",
    "    print(\"\\nEnd of User Processing\\n\")\n",
    "\n",
    "main()\n",
    "\n",
    "\n"
   ]
  },
  {
   "cell_type": "code",
   "execution_count": null,
   "id": "3ce32e7b-01b4-4e60-a25d-7a1e88f9dbd5",
   "metadata": {},
   "outputs": [],
   "source": []
  },
  {
   "cell_type": "code",
   "execution_count": 1,
   "id": "db2c644a-f8b0-4b43-981c-3ffdca12d2b0",
   "metadata": {},
   "outputs": [
    {
     "name": "stdout",
     "output_type": "stream",
     "text": [
      "\n",
      "Could not read the file specified.\n",
      "\n"
     ]
    },
    {
     "ename": "UnboundLocalError",
     "evalue": "cannot access local variable 'userFile' where it is not associated with a value",
     "output_type": "error",
     "traceback": [
      "\u001b[0;31m---------------------------------------------------------------------------\u001b[0m",
      "\u001b[0;31mUnboundLocalError\u001b[0m                         Traceback (most recent call last)",
      "Cell \u001b[0;32mIn[1], line 38\u001b[0m\n\u001b[1;32m     34\u001b[0m         \u001b[38;5;28mprint\u001b[39m(\u001b[38;5;124m\"\u001b[39m\u001b[38;5;130;01m\\n\u001b[39;00m\u001b[38;5;124mOk not printing, ending program.\u001b[39m\u001b[38;5;124m\"\u001b[39m)\n\u001b[1;32m     36\u001b[0m     \u001b[38;5;28mprint\u001b[39m(\u001b[38;5;124m\"\u001b[39m\u001b[38;5;130;01m\\n\u001b[39;00m\u001b[38;5;124mEnd of User Processing\u001b[39m\u001b[38;5;130;01m\\n\u001b[39;00m\u001b[38;5;124m\"\u001b[39m)\n\u001b[0;32m---> 38\u001b[0m \u001b[43mmain\u001b[49m\u001b[43m(\u001b[49m\u001b[43m)\u001b[49m\n",
      "Cell \u001b[0;32mIn[1], line 21\u001b[0m, in \u001b[0;36mmain\u001b[0;34m()\u001b[0m\n\u001b[1;32m     18\u001b[0m     exit()\n\u001b[1;32m     20\u001b[0m \u001b[38;5;66;03m#load the lines of the file into a list\u001b[39;00m\n\u001b[0;32m---> 21\u001b[0m listOfUsers \u001b[38;5;241m=\u001b[39m \u001b[43muserFile\u001b[49m\u001b[38;5;241m.\u001b[39mreadlines()\n\u001b[1;32m     22\u001b[0m \u001b[38;5;28mprint\u001b[39m(\u001b[38;5;124m\"\u001b[39m\u001b[38;5;130;01m\\n\u001b[39;00m\u001b[38;5;124mlist-of-users was read.\u001b[39m\u001b[38;5;124m\"\u001b[39m)\n\u001b[1;32m     24\u001b[0m \u001b[38;5;66;03m#ask the user to proceed\u001b[39;00m\n",
      "\u001b[0;31mUnboundLocalError\u001b[0m: cannot access local variable 'userFile' where it is not associated with a value"
     ]
    }
   ],
   "source": [
    "# INET4031 Module 1\n",
    "#\n",
    "# User List Processing Program\n",
    "#\n",
    "# Created: Nov 11, 2024\n",
    "# Updated: Jan 6, 2025\n",
    "#\n",
    "\n",
    "def main():\n",
    "\n",
    "    #open the user list file\n",
    "    try:\n",
    "\n",
    "        userFile = open(\"list-of-sers.txt\", \"r\")\n",
    "\n",
    "    except:\n",
    "        print(\"\\nCould not read the file specified.\\n\")\n",
    "        exit()\n",
    "\n",
    "    #load the lines of the file into a list\n",
    "    listOfUsers = userFile.readlines()\n",
    "    print(\"\\nlist-of-users was read.\")\n",
    "\n",
    "    #ask the user to proceed\n",
    "    answer = input(\"\\nDo you want to print out the list of users? (Y or N)\")\n",
    "\n",
    "    if answer == \"Y\" or answer == \"y\":\n",
    "\n",
    "        for userline in listOfUsers:\n",
    "            print(\"\\n\", userline)\n",
    "\n",
    "    else:\n",
    "\n",
    "        print(\"\\nOk not printing, ending program.\")\n",
    "\n",
    "    print(\"\\nEnd of User Processing\\n\")\n",
    "\n",
    "main()\n",
    "\n",
    "\n"
   ]
  },
  {
   "cell_type": "code",
   "execution_count": null,
   "id": "77cfc40d-c5cb-4312-98df-91b883a33e5f",
   "metadata": {},
   "outputs": [],
   "source": []
  }
 ],
 "metadata": {
  "kernelspec": {
   "display_name": "Python 3 (ipykernel)",
   "language": "python",
   "name": "python3"
  },
  "language_info": {
   "codemirror_mode": {
    "name": "ipython",
    "version": 3
   },
   "file_extension": ".py",
   "mimetype": "text/x-python",
   "name": "python",
   "nbconvert_exporter": "python",
   "pygments_lexer": "ipython3",
   "version": "3.13.1"
  }
 },
 "nbformat": 4,
 "nbformat_minor": 5
}
